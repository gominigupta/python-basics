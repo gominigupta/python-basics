{
 "cells": [
  {
   "cell_type": "code",
   "execution_count": 1,
   "id": "82d52b2c",
   "metadata": {},
   "outputs": [
    {
     "name": "stdout",
     "output_type": "stream",
     "text": [
      "[]\n"
     ]
    }
   ],
   "source": [
    "# create a blank list\n",
    "A = []\n",
    "print(A)"
   ]
  },
  {
   "cell_type": "code",
   "execution_count": 2,
   "id": "5d4c9310",
   "metadata": {},
   "outputs": [
    {
     "name": "stdout",
     "output_type": "stream",
     "text": [
      "[1]\n",
      "[1, 2]\n"
     ]
    }
   ],
   "source": [
    "# add numeric elements (one at a time) in the blank list \"A\" created above\n",
    "A.append(1)\n",
    "print(A)\n",
    "A.append(2)\n",
    "print(A)"
   ]
  },
  {
   "cell_type": "code",
   "execution_count": 3,
   "id": "53e8d2a1",
   "metadata": {},
   "outputs": [
    {
     "name": "stdout",
     "output_type": "stream",
     "text": [
      "[1, 2, 3, 4, 5]\n",
      "[1, 2, 3, 4, 5, 6, 7, 8, 9]\n",
      "[1, 2, 3, 4, 5, 6, 7, 8, 9, 10, 11, 12, 13, 14]\n"
     ]
    }
   ],
   "source": [
    "# adding mutiple elements to the list in one command\n",
    "A.extend([3,4,5])\n",
    "print(A)\n",
    "A.extend((6,7,8,9))\n",
    "print(A)\n",
    "A.extend(range(10,15))\n",
    "print(A)"
   ]
  },
  {
   "cell_type": "code",
   "execution_count": 4,
   "id": "7af917f4",
   "metadata": {},
   "outputs": [
    {
     "name": "stdout",
     "output_type": "stream",
     "text": [
      "[1, 100, 2, 3, 4, 5, 6, 7, 8, 9, 10, 11, 12, 13, 14]\n",
      "[1, 100, 2, 200, 3, 4, 5, 6, 7, 8, 9, 10, 11, 12, 13, 14]\n"
     ]
    }
   ],
   "source": [
    "### inserting elements at specific index\n",
    "A.insert(1,100)\n",
    "print(A)\n",
    "A.insert(3,200)\n",
    "print(A)"
   ]
  },
  {
   "cell_type": "code",
   "execution_count": 5,
   "id": "5abec8a9",
   "metadata": {},
   "outputs": [
    {
     "name": "stdout",
     "output_type": "stream",
     "text": [
      "[1, 2, 3, 'dog', 'cheetah', 25]\n"
     ]
    }
   ],
   "source": [
    "# create list with elements\n",
    "B = [1,2,3,'dog','cheetah',25]\n",
    "print(B)"
   ]
  },
  {
   "cell_type": "code",
   "execution_count": 6,
   "id": "380cb4b0",
   "metadata": {},
   "outputs": [
    {
     "data": {
      "text/plain": [
       "[1, 2, 3, 'dog', 'cheetah', 25]"
      ]
     },
     "execution_count": 6,
     "metadata": {},
     "output_type": "execute_result"
    }
   ],
   "source": [
    "# accessing list elements\n",
    "B"
   ]
  },
  {
   "cell_type": "code",
   "execution_count": 7,
   "id": "d54742a5",
   "metadata": {},
   "outputs": [
    {
     "name": "stdout",
     "output_type": "stream",
     "text": [
      "cheetah\n"
     ]
    }
   ],
   "source": [
    "# access elements at specific index\n",
    "print(B[4])"
   ]
  },
  {
   "cell_type": "code",
   "execution_count": 8,
   "id": "2b582a04",
   "metadata": {},
   "outputs": [
    {
     "name": "stdout",
     "output_type": "stream",
     "text": [
      "25\n",
      "cheetah\n",
      "1\n"
     ]
    }
   ],
   "source": [
    "# accessing list elements using negative indexing\n",
    "print(B[-1]) # last element B[5]\n",
    "print(B[-2]) # same as B[4]\n",
    "print(B[-6]) # same as B[0]"
   ]
  },
  {
   "cell_type": "code",
   "execution_count": 9,
   "id": "ce26a333",
   "metadata": {},
   "outputs": [
    {
     "data": {
      "text/plain": [
       "[0, 3, 6, 9]"
      ]
     },
     "execution_count": 9,
     "metadata": {},
     "output_type": "execute_result"
    }
   ],
   "source": [
    "# slicing of list - lst[start:end:step]\n",
    "L = [0,1,2,3,4,5,6,7,8,9,10,11,12,13,14]\n",
    "L[0:12:3]"
   ]
  },
  {
   "cell_type": "code",
   "execution_count": 10,
   "id": "d20498b7",
   "metadata": {},
   "outputs": [
    {
     "data": {
      "text/plain": [
       "['a', 'apple', 24, 'tiger', 10]"
      ]
     },
     "execution_count": 10,
     "metadata": {},
     "output_type": "execute_result"
    }
   ],
   "source": [
    "# removing specific element from a list - list.remove(element)\n",
    "List1 = ['a','apple',24,50,'tiger',10]\n",
    "List1.remove(50)\n",
    "List1"
   ]
  },
  {
   "cell_type": "code",
   "execution_count": 11,
   "id": "d9df3a84",
   "metadata": {},
   "outputs": [
    {
     "data": {
      "text/plain": [
       "'tiger'"
      ]
     },
     "execution_count": 11,
     "metadata": {},
     "output_type": "execute_result"
    }
   ],
   "source": [
    "# removing an item at a specific index from a list - list.pop(index)\n",
    "List1.pop(3)"
   ]
  },
  {
   "cell_type": "code",
   "execution_count": 12,
   "id": "bfcdd164",
   "metadata": {},
   "outputs": [
    {
     "data": {
      "text/plain": [
       "['a', 'apple', 24, 10]"
      ]
     },
     "execution_count": 12,
     "metadata": {},
     "output_type": "execute_result"
    }
   ],
   "source": [
    "List1"
   ]
  },
  {
   "cell_type": "code",
   "execution_count": 13,
   "id": "628cf52e",
   "metadata": {},
   "outputs": [
    {
     "data": {
      "text/plain": [
       "10"
      ]
     },
     "execution_count": 13,
     "metadata": {},
     "output_type": "execute_result"
    }
   ],
   "source": [
    "# what if you do not specify index in pop() function? \n",
    "# By default it will remove the last item from the list\n",
    "\n",
    "List1.pop()"
   ]
  },
  {
   "cell_type": "code",
   "execution_count": 14,
   "id": "586bf4db",
   "metadata": {},
   "outputs": [
    {
     "data": {
      "text/plain": [
       "['a', 'apple', 24]"
      ]
     },
     "execution_count": 14,
     "metadata": {},
     "output_type": "execute_result"
    }
   ],
   "source": [
    "List1"
   ]
  },
  {
   "cell_type": "code",
   "execution_count": 15,
   "id": "2e4baa4b",
   "metadata": {},
   "outputs": [
    {
     "data": {
      "text/plain": [
       "[143, 145, 158, 167]"
      ]
     },
     "execution_count": 15,
     "metadata": {},
     "output_type": "execute_result"
    }
   ],
   "source": [
    "# list comprehension \n",
    "# new_list = [expression for element in existing_list if condition]\n",
    "\n",
    "List2 = [11,12,24,25,22,43,10,45,58,67]\n",
    "NewList2 = [i+100 for i in List2 if i>25]\n",
    "NewList2"
   ]
  },
  {
   "cell_type": "code",
   "execution_count": null,
   "id": "c8349a66",
   "metadata": {},
   "outputs": [],
   "source": []
  }
 ],
 "metadata": {
  "kernelspec": {
   "display_name": "Python 3",
   "language": "python",
   "name": "python3"
  },
  "language_info": {
   "codemirror_mode": {
    "name": "ipython",
    "version": 3
   },
   "file_extension": ".py",
   "mimetype": "text/x-python",
   "name": "python",
   "nbconvert_exporter": "python",
   "pygments_lexer": "ipython3",
   "version": "3.8.8"
  }
 },
 "nbformat": 4,
 "nbformat_minor": 5
}
