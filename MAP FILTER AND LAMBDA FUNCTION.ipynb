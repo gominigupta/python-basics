{
 "cells": [
  {
   "cell_type": "markdown",
   "id": "9be8a26d",
   "metadata": {},
   "source": [
    "### COMPARING NORMAL USER DEFINED FUNCTION IN PYTHON TO LAMBDA FUNCITON"
   ]
  },
  {
   "cell_type": "code",
   "execution_count": 2,
   "id": "db57023a",
   "metadata": {},
   "outputs": [
    {
     "data": {
      "text/plain": [
       "20"
      ]
     },
     "execution_count": 2,
     "metadata": {},
     "output_type": "execute_result"
    }
   ],
   "source": [
    "def xtimes2(x):\n",
    "    return x*2\n",
    "\n",
    "xtimes2(10)"
   ]
  },
  {
   "cell_type": "code",
   "execution_count": 1,
   "id": "45a02ee1",
   "metadata": {},
   "outputs": [
    {
     "data": {
      "text/plain": [
       "20"
      ]
     },
     "execution_count": 1,
     "metadata": {},
     "output_type": "execute_result"
    }
   ],
   "source": [
    "(lambda x: x*2)(10) "
   ]
  },
  {
   "cell_type": "markdown",
   "id": "9b2578e4",
   "metadata": {},
   "source": [
    "### MAP FUNCTION\n",
    "Used when we have to apply some operation to each element of a series"
   ]
  },
  {
   "cell_type": "code",
   "execution_count": 4,
   "id": "c26c8ec0",
   "metadata": {},
   "outputs": [],
   "source": [
    "## applying xtimes2 function to a list\n",
    "list1 = [1,2,3,4,5]  "
   ]
  },
  {
   "cell_type": "code",
   "execution_count": 5,
   "id": "3c2de960",
   "metadata": {},
   "outputs": [
    {
     "name": "stdout",
     "output_type": "stream",
     "text": [
      "[2, 4, 6, 8, 10]\n"
     ]
    }
   ],
   "source": [
    "## using For-loop\n",
    "list2 = []\n",
    "for n in list1:\n",
    "    list2.append(xtimes2(n))\n",
    "\n",
    "print(list2)"
   ]
  },
  {
   "cell_type": "code",
   "execution_count": 9,
   "id": "a07cb076",
   "metadata": {},
   "outputs": [
    {
     "name": "stdout",
     "output_type": "stream",
     "text": [
      "[2, 4, 6, 8, 10]\n"
     ]
    }
   ],
   "source": [
    "## doing the same thing, but using map()\n",
    "\n",
    "list3 = map(xtimes2, list1)\n",
    "print(list(list3))"
   ]
  },
  {
   "cell_type": "markdown",
   "id": "341aa215",
   "metadata": {},
   "source": [
    "### USING LAMBDA WITHIN MAP"
   ]
  },
  {
   "cell_type": "code",
   "execution_count": 10,
   "id": "058cb881",
   "metadata": {},
   "outputs": [
    {
     "data": {
      "text/plain": [
       "[2, 6, 10, 14, 18]"
      ]
     },
     "execution_count": 10,
     "metadata": {},
     "output_type": "execute_result"
    }
   ],
   "source": [
    "list(map(lambda x: x*2, [1,3,5,7,9]))"
   ]
  },
  {
   "cell_type": "markdown",
   "id": "2e55be6d",
   "metadata": {},
   "source": [
    "### FILTER FUNCTION"
   ]
  },
  {
   "cell_type": "code",
   "execution_count": 12,
   "id": "2dab1357",
   "metadata": {},
   "outputs": [],
   "source": [
    "## filter odd numbers from list1 defined above\n",
    "def oddcheck(x):\n",
    "    if x%2==0:\n",
    "        return False\n",
    "    else:\n",
    "        return True"
   ]
  },
  {
   "cell_type": "code",
   "execution_count": 13,
   "id": "c582b491",
   "metadata": {},
   "outputs": [
    {
     "name": "stdout",
     "output_type": "stream",
     "text": [
      "[1, 3, 5]\n"
     ]
    }
   ],
   "source": [
    "list4 = []\n",
    "for n in list1:\n",
    "    if oddcheck(n)==True:\n",
    "        list4.append(n)\n",
    "print(list4)"
   ]
  },
  {
   "cell_type": "code",
   "execution_count": 16,
   "id": "f2093a02",
   "metadata": {},
   "outputs": [
    {
     "name": "stdout",
     "output_type": "stream",
     "text": [
      "[1, 3, 5]\n"
     ]
    }
   ],
   "source": [
    "## doing the same thing using FILTER()\n",
    "\n",
    "list5 = list(filter(oddcheck, list1))\n",
    "print(list5)"
   ]
  },
  {
   "cell_type": "markdown",
   "id": "725e6699",
   "metadata": {},
   "source": [
    "### USING LAMBDA WITHIN FILTER"
   ]
  },
  {
   "cell_type": "code",
   "execution_count": 17,
   "id": "0ebc76cf",
   "metadata": {},
   "outputs": [
    {
     "data": {
      "text/plain": [
       "[1, 3, 5]"
      ]
     },
     "execution_count": 17,
     "metadata": {},
     "output_type": "execute_result"
    }
   ],
   "source": [
    "list(filter(lambda x: x%2 != 0, list1))"
   ]
  }
 ],
 "metadata": {
  "kernelspec": {
   "display_name": "Python 3",
   "language": "python",
   "name": "python3"
  },
  "language_info": {
   "codemirror_mode": {
    "name": "ipython",
    "version": 3
   },
   "file_extension": ".py",
   "mimetype": "text/x-python",
   "name": "python",
   "nbconvert_exporter": "python",
   "pygments_lexer": "ipython3",
   "version": "3.8.8"
  }
 },
 "nbformat": 4,
 "nbformat_minor": 5
}
