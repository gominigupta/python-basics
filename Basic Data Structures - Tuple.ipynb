{
 "cells": [
  {
   "cell_type": "code",
   "execution_count": 1,
   "id": "da2592ec",
   "metadata": {},
   "outputs": [
    {
     "name": "stdout",
     "output_type": "stream",
     "text": [
      "()\n"
     ]
    }
   ],
   "source": [
    "# empty tuple\n",
    "T = tuple()\n",
    "print(T)"
   ]
  },
  {
   "cell_type": "code",
   "execution_count": 2,
   "id": "eb2b873d",
   "metadata": {},
   "outputs": [
    {
     "name": "stdout",
     "output_type": "stream",
     "text": [
      "('apple', 'samsung') ('lenovo', 'hp')\n"
     ]
    }
   ],
   "source": [
    "## two ways to initialize a tuple: with or without parenthesis\n",
    "T1 = 'apple','samsung'\n",
    "T2 = ('lenovo','hp')\n",
    "print(T1, T2)"
   ]
  },
  {
   "cell_type": "code",
   "execution_count": 3,
   "id": "ce389b9e",
   "metadata": {},
   "outputs": [
    {
     "name": "stdout",
     "output_type": "stream",
     "text": [
      "('apple', 'samsung', 'lenovo', 'hp')\n"
     ]
    }
   ],
   "source": [
    "# concatenate tuple T1 and T2\n",
    "print(T1+T2)"
   ]
  },
  {
   "cell_type": "code",
   "execution_count": 4,
   "id": "b93292b2",
   "metadata": {},
   "outputs": [
    {
     "name": "stdout",
     "output_type": "stream",
     "text": [
      "(('apple', 'samsung'), ('lenovo', 'hp'))\n"
     ]
    }
   ],
   "source": [
    "# nested tuple, this is different from concatenation\n",
    "T3 = (T1,T2)\n",
    "print(T3)"
   ]
  },
  {
   "cell_type": "code",
   "execution_count": 5,
   "id": "e995775c",
   "metadata": {},
   "outputs": [
    {
     "name": "stdout",
     "output_type": "stream",
     "text": [
      "('dell', 'dell', 'dell', 'dell')\n"
     ]
    }
   ],
   "source": [
    "# we can repeat one element in tuple by simply multiplying as element*n where n=number of repetition\n",
    "T4 = ('dell',)*4\n",
    "print(T4)"
   ]
  },
  {
   "cell_type": "code",
   "execution_count": 6,
   "id": "31ae7137",
   "metadata": {},
   "outputs": [
    {
     "name": "stdout",
     "output_type": "stream",
     "text": [
      "3\n"
     ]
    }
   ],
   "source": [
    "# Indexing \n",
    "T5 = (0,1,2,3,4,5)\n",
    "print(T5[3])  "
   ]
  },
  {
   "cell_type": "code",
   "execution_count": 7,
   "id": "a2dd838c",
   "metadata": {},
   "outputs": [
    {
     "name": "stdout",
     "output_type": "stream",
     "text": [
      "(1, 2, 3)\n",
      "(0, 1, 2, 3, 4)\n",
      "(0, 1, 2, 3)\n"
     ]
    }
   ],
   "source": [
    "# Slicing [lower bound included, upper bound not included] \n",
    "# negative indexing also works on tuples\n",
    "print(T5[1:4])\n",
    "print(T5[:-1])\n",
    "print(T5[-6:-2])"
   ]
  },
  {
   "cell_type": "code",
   "execution_count": 8,
   "id": "e4c56f92",
   "metadata": {},
   "outputs": [
    {
     "ename": "TypeError",
     "evalue": "'tuple' object does not support item assignment",
     "output_type": "error",
     "traceback": [
      "\u001b[1;31m---------------------------------------------------------------------------\u001b[0m",
      "\u001b[1;31mTypeError\u001b[0m                                 Traceback (most recent call last)",
      "\u001b[1;32m<ipython-input-8-c581536a6843>\u001b[0m in \u001b[0;36m<module>\u001b[1;34m\u001b[0m\n\u001b[0;32m      3\u001b[0m \u001b[1;31m# if you try to mutate a tuple, it will give error.\u001b[0m\u001b[1;33m\u001b[0m\u001b[1;33m\u001b[0m\u001b[1;33m\u001b[0m\u001b[0m\n\u001b[0;32m      4\u001b[0m \u001b[1;33m\u001b[0m\u001b[0m\n\u001b[1;32m----> 5\u001b[1;33m \u001b[0mT5\u001b[0m\u001b[1;33m[\u001b[0m\u001b[1;36m2\u001b[0m\u001b[1;33m]\u001b[0m \u001b[1;33m=\u001b[0m \u001b[1;36m20\u001b[0m\u001b[1;33m\u001b[0m\u001b[1;33m\u001b[0m\u001b[0m\n\u001b[0m",
      "\u001b[1;31mTypeError\u001b[0m: 'tuple' object does not support item assignment"
     ]
    }
   ],
   "source": [
    "# Immutable property of tuples - - - 'tuple' object does not support item assignment\n",
    "\n",
    "# if you try to mutate a tuple, it will give error.\n",
    "\n",
    "T5[2] = 20"
   ]
  },
  {
   "cell_type": "code",
   "execution_count": 9,
   "id": "b319ed1c",
   "metadata": {},
   "outputs": [
    {
     "name": "stdout",
     "output_type": "stream",
     "text": [
      "6\n"
     ]
    }
   ],
   "source": [
    "# length of a tuple\n",
    "print(len(T5))"
   ]
  },
  {
   "cell_type": "markdown",
   "id": "48fc12db",
   "metadata": {},
   "source": [
    "### convert a list to a tuple"
   ]
  },
  {
   "cell_type": "code",
   "execution_count": 10,
   "id": "cb805f18",
   "metadata": {},
   "outputs": [
    {
     "name": "stdout",
     "output_type": "stream",
     "text": [
      "[1, 2, 3, 4]\n",
      "(1, 2, 3, 4)\n"
     ]
    }
   ],
   "source": [
    "L = [1,2,3,4] # list\n",
    "print(L)\n",
    "T = tuple(L) # convert to tuple using tuple() function\n",
    "print(T)"
   ]
  },
  {
   "cell_type": "code",
   "execution_count": 11,
   "id": "a2001829",
   "metadata": {},
   "outputs": [
    {
     "name": "stdout",
     "output_type": "stream",
     "text": [
      "(12, 14, 16, 18, 20) [12, 14, 16, 18, 20]\n"
     ]
    }
   ],
   "source": [
    "## Similarly we can also convert a tuple to a list using list() function\n",
    "tup = (12,14,16,18,20)\n",
    "lst = list(tup)\n",
    "print(tup, lst)"
   ]
  },
  {
   "cell_type": "code",
   "execution_count": null,
   "id": "2407d159",
   "metadata": {},
   "outputs": [],
   "source": []
  }
 ],
 "metadata": {
  "kernelspec": {
   "display_name": "Python 3",
   "language": "python",
   "name": "python3"
  },
  "language_info": {
   "codemirror_mode": {
    "name": "ipython",
    "version": 3
   },
   "file_extension": ".py",
   "mimetype": "text/x-python",
   "name": "python",
   "nbconvert_exporter": "python",
   "pygments_lexer": "ipython3",
   "version": "3.8.8"
  }
 },
 "nbformat": 4,
 "nbformat_minor": 5
}
