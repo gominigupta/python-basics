{
 "cells": [
  {
   "cell_type": "markdown",
   "id": "2d6c7137",
   "metadata": {},
   "source": [
    "#### Reference: \n",
    "#### https://www.linkedin.com/posts/khuyen-tran-1401_methods-to-work-with-datetime-in-pandas-activity-6903352397612032000-lGSU"
   ]
  },
  {
   "cell_type": "markdown",
   "id": "cdb1bf2e",
   "metadata": {},
   "source": [
    "### parse_dates in pd.read_csv \n",
    "### directly convert datetime columns from string to datetime while reading the csv file"
   ]
  },
  {
   "cell_type": "code",
   "execution_count": 1,
   "id": "5d503383",
   "metadata": {},
   "outputs": [],
   "source": [
    "import pandas as pd\n",
    "from datetime import datetime"
   ]
  },
  {
   "cell_type": "code",
   "execution_count": 2,
   "id": "4b8adbf7",
   "metadata": {},
   "outputs": [
    {
     "name": "stdout",
     "output_type": "stream",
     "text": [
      "<class 'pandas.core.frame.DataFrame'>\n",
      "RangeIndex: 10 entries, 0 to 9\n",
      "Data columns (total 3 columns):\n",
      " #   Column      Non-Null Count  Dtype \n",
      "---  ------      --------------  ----- \n",
      " 0   Start_Date  10 non-null     object\n",
      " 1   End_Date    10 non-null     object\n",
      " 2   Frequency   10 non-null     int64 \n",
      "dtypes: int64(1), object(2)\n",
      "memory usage: 368.0+ bytes\n"
     ]
    }
   ],
   "source": [
    "pd.read_csv('Data_DateTimePandas.csv').info()  ## without parse_dates the data type of columns will be considered as object"
   ]
  },
  {
   "cell_type": "code",
   "execution_count": 3,
   "id": "a5ca7259",
   "metadata": {},
   "outputs": [],
   "source": [
    "df = pd.read_csv('Data_DateTimePandas.csv', parse_dates=['Start_Date','End_Date'])"
   ]
  },
  {
   "cell_type": "code",
   "execution_count": 4,
   "id": "e1131a4e",
   "metadata": {},
   "outputs": [
    {
     "name": "stdout",
     "output_type": "stream",
     "text": [
      "<class 'pandas.core.frame.DataFrame'>\n",
      "RangeIndex: 10 entries, 0 to 9\n",
      "Data columns (total 3 columns):\n",
      " #   Column      Non-Null Count  Dtype         \n",
      "---  ------      --------------  -----         \n",
      " 0   Start_Date  10 non-null     datetime64[ns]\n",
      " 1   End_Date    10 non-null     datetime64[ns]\n",
      " 2   Frequency   10 non-null     int64         \n",
      "dtypes: datetime64[ns](2), int64(1)\n",
      "memory usage: 368.0 bytes\n"
     ]
    }
   ],
   "source": [
    "df.info()  ## Using parse dates will directly convert these columns from string to datetime"
   ]
  },
  {
   "cell_type": "markdown",
   "id": "ef9c497a",
   "metadata": {},
   "source": [
    "### pd.Series.dt \n",
    "### access datetime properties of pandas Series "
   ]
  },
  {
   "cell_type": "code",
   "execution_count": 5,
   "id": "e1999bf0",
   "metadata": {},
   "outputs": [
    {
     "data": {
      "text/plain": [
       "0    2019\n",
       "1    2019\n",
       "2    2020\n",
       "3    2020\n",
       "4    2021\n",
       "5    2021\n",
       "6    2022\n",
       "7    2022\n",
       "8    2022\n",
       "9    2022\n",
       "Name: Start_Date, dtype: int64"
      ]
     },
     "execution_count": 5,
     "metadata": {},
     "output_type": "execute_result"
    }
   ],
   "source": [
    "df['Start_Date'].dt.year # RETURNS YEAR"
   ]
  },
  {
   "cell_type": "code",
   "execution_count": 6,
   "id": "c588d77b",
   "metadata": {},
   "outputs": [
    {
     "data": {
      "text/plain": [
       "0     7\n",
       "1     8\n",
       "2    11\n",
       "3    25\n",
       "4     5\n",
       "5     6\n",
       "6     5\n",
       "7     6\n",
       "8     7\n",
       "9     8\n",
       "Name: week, dtype: UInt32"
      ]
     },
     "execution_count": 6,
     "metadata": {},
     "output_type": "execute_result"
    }
   ],
   "source": [
    "df['Start_Date'].dt.isocalendar().week   # RETURNS WEEK OF YEAR"
   ]
  },
  {
   "cell_type": "code",
   "execution_count": 12,
   "id": "f780f4a2",
   "metadata": {},
   "outputs": [
    {
     "data": {
      "text/plain": [
       "0    10:30:00\n",
       "1    10:30:00\n",
       "2    10:30:00\n",
       "3    10:30:00\n",
       "4    10:30:00\n",
       "5    10:30:00\n",
       "6    10:30:00\n",
       "7    10:30:00\n",
       "8    10:30:00\n",
       "9    10:30:00\n",
       "Name: Start_Date, dtype: object"
      ]
     },
     "execution_count": 12,
     "metadata": {},
     "output_type": "execute_result"
    }
   ],
   "source": [
    "df['Start_Date'].dt.time # RETURNS TIME"
   ]
  },
  {
   "cell_type": "markdown",
   "id": "407df1f7",
   "metadata": {},
   "source": [
    "### get rows from the DataFrame within a specific year range!\n",
    "#### DataFrame.loc to the rescue\n",
    "\n",
    "It is important to note that for using this method, we have to set date column as index!!"
   ]
  },
  {
   "cell_type": "code",
   "execution_count": 8,
   "id": "b668da5b",
   "metadata": {},
   "outputs": [
    {
     "data": {
      "text/html": [
       "<div>\n",
       "<style scoped>\n",
       "    .dataframe tbody tr th:only-of-type {\n",
       "        vertical-align: middle;\n",
       "    }\n",
       "\n",
       "    .dataframe tbody tr th {\n",
       "        vertical-align: top;\n",
       "    }\n",
       "\n",
       "    .dataframe thead th {\n",
       "        text-align: right;\n",
       "    }\n",
       "</style>\n",
       "<table border=\"1\" class=\"dataframe\">\n",
       "  <thead>\n",
       "    <tr style=\"text-align: right;\">\n",
       "      <th></th>\n",
       "      <th>End_Date</th>\n",
       "      <th>Frequency</th>\n",
       "    </tr>\n",
       "    <tr>\n",
       "      <th>Start_Date</th>\n",
       "      <th></th>\n",
       "      <th></th>\n",
       "    </tr>\n",
       "  </thead>\n",
       "  <tbody>\n",
       "    <tr>\n",
       "      <th>2019-02-15 10:30:00</th>\n",
       "      <td>2019-02-19 23:59:00</td>\n",
       "      <td>52</td>\n",
       "    </tr>\n",
       "    <tr>\n",
       "      <th>2019-02-22 10:30:00</th>\n",
       "      <td>2019-02-26 23:59:00</td>\n",
       "      <td>78</td>\n",
       "    </tr>\n",
       "    <tr>\n",
       "      <th>2020-03-15 10:30:00</th>\n",
       "      <td>2020-03-20 23:59:00</td>\n",
       "      <td>43</td>\n",
       "    </tr>\n",
       "    <tr>\n",
       "      <th>2020-06-20 10:30:00</th>\n",
       "      <td>2020-07-31 23:59:00</td>\n",
       "      <td>41</td>\n",
       "    </tr>\n",
       "    <tr>\n",
       "      <th>2021-02-01 10:30:00</th>\n",
       "      <td>2021-02-05 23:59:00</td>\n",
       "      <td>36</td>\n",
       "    </tr>\n",
       "    <tr>\n",
       "      <th>2021-02-08 10:30:00</th>\n",
       "      <td>2021-02-12 23:59:00</td>\n",
       "      <td>69</td>\n",
       "    </tr>\n",
       "    <tr>\n",
       "      <th>2022-02-01 10:30:00</th>\n",
       "      <td>2022-02-05 23:59:00</td>\n",
       "      <td>44</td>\n",
       "    </tr>\n",
       "    <tr>\n",
       "      <th>2022-02-08 10:30:00</th>\n",
       "      <td>2022-02-12 23:59:00</td>\n",
       "      <td>77</td>\n",
       "    </tr>\n",
       "    <tr>\n",
       "      <th>2022-02-15 10:30:00</th>\n",
       "      <td>2022-02-19 23:59:00</td>\n",
       "      <td>75</td>\n",
       "    </tr>\n",
       "    <tr>\n",
       "      <th>2022-02-22 10:30:00</th>\n",
       "      <td>2022-02-26 23:59:00</td>\n",
       "      <td>36</td>\n",
       "    </tr>\n",
       "  </tbody>\n",
       "</table>\n",
       "</div>"
      ],
      "text/plain": [
       "                               End_Date  Frequency\n",
       "Start_Date                                        \n",
       "2019-02-15 10:30:00 2019-02-19 23:59:00         52\n",
       "2019-02-22 10:30:00 2019-02-26 23:59:00         78\n",
       "2020-03-15 10:30:00 2020-03-20 23:59:00         43\n",
       "2020-06-20 10:30:00 2020-07-31 23:59:00         41\n",
       "2021-02-01 10:30:00 2021-02-05 23:59:00         36\n",
       "2021-02-08 10:30:00 2021-02-12 23:59:00         69\n",
       "2022-02-01 10:30:00 2022-02-05 23:59:00         44\n",
       "2022-02-08 10:30:00 2022-02-12 23:59:00         77\n",
       "2022-02-15 10:30:00 2022-02-19 23:59:00         75\n",
       "2022-02-22 10:30:00 2022-02-26 23:59:00         36"
      ]
     },
     "execution_count": 8,
     "metadata": {},
     "output_type": "execute_result"
    }
   ],
   "source": [
    "df1 = df.set_index(\"Start_Date\")\n",
    "df1"
   ]
  },
  {
   "cell_type": "code",
   "execution_count": 9,
   "id": "43e1057e",
   "metadata": {},
   "outputs": [
    {
     "data": {
      "text/html": [
       "<div>\n",
       "<style scoped>\n",
       "    .dataframe tbody tr th:only-of-type {\n",
       "        vertical-align: middle;\n",
       "    }\n",
       "\n",
       "    .dataframe tbody tr th {\n",
       "        vertical-align: top;\n",
       "    }\n",
       "\n",
       "    .dataframe thead th {\n",
       "        text-align: right;\n",
       "    }\n",
       "</style>\n",
       "<table border=\"1\" class=\"dataframe\">\n",
       "  <thead>\n",
       "    <tr style=\"text-align: right;\">\n",
       "      <th></th>\n",
       "      <th>End_Date</th>\n",
       "      <th>Frequency</th>\n",
       "    </tr>\n",
       "    <tr>\n",
       "      <th>Start_Date</th>\n",
       "      <th></th>\n",
       "      <th></th>\n",
       "    </tr>\n",
       "  </thead>\n",
       "  <tbody>\n",
       "    <tr>\n",
       "      <th>2021-02-01 10:30:00</th>\n",
       "      <td>2021-02-05 23:59:00</td>\n",
       "      <td>36</td>\n",
       "    </tr>\n",
       "    <tr>\n",
       "      <th>2021-02-08 10:30:00</th>\n",
       "      <td>2021-02-12 23:59:00</td>\n",
       "      <td>69</td>\n",
       "    </tr>\n",
       "    <tr>\n",
       "      <th>2022-02-01 10:30:00</th>\n",
       "      <td>2022-02-05 23:59:00</td>\n",
       "      <td>44</td>\n",
       "    </tr>\n",
       "    <tr>\n",
       "      <th>2022-02-08 10:30:00</th>\n",
       "      <td>2022-02-12 23:59:00</td>\n",
       "      <td>77</td>\n",
       "    </tr>\n",
       "    <tr>\n",
       "      <th>2022-02-15 10:30:00</th>\n",
       "      <td>2022-02-19 23:59:00</td>\n",
       "      <td>75</td>\n",
       "    </tr>\n",
       "    <tr>\n",
       "      <th>2022-02-22 10:30:00</th>\n",
       "      <td>2022-02-26 23:59:00</td>\n",
       "      <td>36</td>\n",
       "    </tr>\n",
       "  </tbody>\n",
       "</table>\n",
       "</div>"
      ],
      "text/plain": [
       "                               End_Date  Frequency\n",
       "Start_Date                                        \n",
       "2021-02-01 10:30:00 2021-02-05 23:59:00         36\n",
       "2021-02-08 10:30:00 2021-02-12 23:59:00         69\n",
       "2022-02-01 10:30:00 2022-02-05 23:59:00         44\n",
       "2022-02-08 10:30:00 2022-02-12 23:59:00         77\n",
       "2022-02-15 10:30:00 2022-02-19 23:59:00         75\n",
       "2022-02-22 10:30:00 2022-02-26 23:59:00         36"
      ]
     },
     "execution_count": 9,
     "metadata": {},
     "output_type": "execute_result"
    }
   ],
   "source": [
    "df1.loc[\"2021\":]"
   ]
  },
  {
   "cell_type": "markdown",
   "id": "fc1a6a63",
   "metadata": {},
   "source": [
    "### Moving average - DataFrame Rolling\n",
    "### Find average of last n data points\n",
    "\n",
    "## df.rolling(time_period).mean()"
   ]
  },
  {
   "cell_type": "code",
   "execution_count": 10,
   "id": "e07e39ab",
   "metadata": {},
   "outputs": [
    {
     "data": {
      "text/html": [
       "<div>\n",
       "<style scoped>\n",
       "    .dataframe tbody tr th:only-of-type {\n",
       "        vertical-align: middle;\n",
       "    }\n",
       "\n",
       "    .dataframe tbody tr th {\n",
       "        vertical-align: top;\n",
       "    }\n",
       "\n",
       "    .dataframe thead th {\n",
       "        text-align: right;\n",
       "    }\n",
       "</style>\n",
       "<table border=\"1\" class=\"dataframe\">\n",
       "  <thead>\n",
       "    <tr style=\"text-align: right;\">\n",
       "      <th></th>\n",
       "      <th>Frequency</th>\n",
       "    </tr>\n",
       "    <tr>\n",
       "      <th>Start_Date</th>\n",
       "      <th></th>\n",
       "    </tr>\n",
       "  </thead>\n",
       "  <tbody>\n",
       "    <tr>\n",
       "      <th>2019-02-15 10:30:00</th>\n",
       "      <td>NaN</td>\n",
       "    </tr>\n",
       "    <tr>\n",
       "      <th>2019-02-22 10:30:00</th>\n",
       "      <td>NaN</td>\n",
       "    </tr>\n",
       "    <tr>\n",
       "      <th>2020-03-15 10:30:00</th>\n",
       "      <td>NaN</td>\n",
       "    </tr>\n",
       "    <tr>\n",
       "      <th>2020-06-20 10:30:00</th>\n",
       "      <td>53.50</td>\n",
       "    </tr>\n",
       "    <tr>\n",
       "      <th>2021-02-01 10:30:00</th>\n",
       "      <td>49.50</td>\n",
       "    </tr>\n",
       "    <tr>\n",
       "      <th>2021-02-08 10:30:00</th>\n",
       "      <td>47.25</td>\n",
       "    </tr>\n",
       "    <tr>\n",
       "      <th>2022-02-01 10:30:00</th>\n",
       "      <td>47.50</td>\n",
       "    </tr>\n",
       "    <tr>\n",
       "      <th>2022-02-08 10:30:00</th>\n",
       "      <td>56.50</td>\n",
       "    </tr>\n",
       "    <tr>\n",
       "      <th>2022-02-15 10:30:00</th>\n",
       "      <td>66.25</td>\n",
       "    </tr>\n",
       "    <tr>\n",
       "      <th>2022-02-22 10:30:00</th>\n",
       "      <td>58.00</td>\n",
       "    </tr>\n",
       "  </tbody>\n",
       "</table>\n",
       "</div>"
      ],
      "text/plain": [
       "                     Frequency\n",
       "Start_Date                    \n",
       "2019-02-15 10:30:00        NaN\n",
       "2019-02-22 10:30:00        NaN\n",
       "2020-03-15 10:30:00        NaN\n",
       "2020-06-20 10:30:00      53.50\n",
       "2021-02-01 10:30:00      49.50\n",
       "2021-02-08 10:30:00      47.25\n",
       "2022-02-01 10:30:00      47.50\n",
       "2022-02-08 10:30:00      56.50\n",
       "2022-02-15 10:30:00      66.25\n",
       "2022-02-22 10:30:00      58.00"
      ]
     },
     "execution_count": 10,
     "metadata": {},
     "output_type": "execute_result"
    }
   ],
   "source": [
    "df1.rolling(4).mean()"
   ]
  },
  {
   "cell_type": "code",
   "execution_count": null,
   "id": "d51f0b64",
   "metadata": {},
   "outputs": [],
   "source": []
  },
  {
   "cell_type": "code",
   "execution_count": null,
   "id": "08898831",
   "metadata": {},
   "outputs": [],
   "source": []
  }
 ],
 "metadata": {
  "kernelspec": {
   "display_name": "Python 3",
   "language": "python",
   "name": "python3"
  },
  "language_info": {
   "codemirror_mode": {
    "name": "ipython",
    "version": 3
   },
   "file_extension": ".py",
   "mimetype": "text/x-python",
   "name": "python",
   "nbconvert_exporter": "python",
   "pygments_lexer": "ipython3",
   "version": "3.8.8"
  }
 },
 "nbformat": 4,
 "nbformat_minor": 5
}
