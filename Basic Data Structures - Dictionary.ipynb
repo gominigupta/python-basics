{
 "cells": [
  {
   "cell_type": "markdown",
   "id": "7ec4ae7a",
   "metadata": {},
   "source": [
    "### Creating a dictionary"
   ]
  },
  {
   "cell_type": "code",
   "execution_count": 1,
   "id": "cc33dd92",
   "metadata": {},
   "outputs": [
    {
     "data": {
      "text/plain": [
       "{}"
      ]
     },
     "execution_count": 1,
     "metadata": {},
     "output_type": "execute_result"
    }
   ],
   "source": [
    "# empty dictionary\n",
    "dict1 = dict()\n",
    "dict1"
   ]
  },
  {
   "cell_type": "code",
   "execution_count": 2,
   "id": "b46353cd",
   "metadata": {},
   "outputs": [
    {
     "data": {
      "text/plain": [
       "{'Name': 'Robin', 'GPA': 3.6}"
      ]
     },
     "execution_count": 2,
     "metadata": {},
     "output_type": "execute_result"
    }
   ],
   "source": [
    "students = {'Name':'Robin', 'GPA':3.6}\n",
    "students"
   ]
  },
  {
   "cell_type": "code",
   "execution_count": 3,
   "id": "d1f26cd5",
   "metadata": {},
   "outputs": [
    {
     "data": {
      "text/plain": [
       "dict"
      ]
     },
     "execution_count": 3,
     "metadata": {},
     "output_type": "execute_result"
    }
   ],
   "source": [
    "type(students)"
   ]
  },
  {
   "cell_type": "code",
   "execution_count": 4,
   "id": "22d7250a",
   "metadata": {},
   "outputs": [
    {
     "data": {
      "text/plain": [
       "dict_keys(['Name', 'GPA'])"
      ]
     },
     "execution_count": 4,
     "metadata": {},
     "output_type": "execute_result"
    }
   ],
   "source": [
    "# printing all dictionary keys \n",
    "students.keys()"
   ]
  },
  {
   "cell_type": "code",
   "execution_count": 5,
   "id": "1153c3ed",
   "metadata": {},
   "outputs": [
    {
     "data": {
      "text/plain": [
       "dict_values(['Robin', 3.6])"
      ]
     },
     "execution_count": 5,
     "metadata": {},
     "output_type": "execute_result"
    }
   ],
   "source": [
    "# dictionary values\n",
    "students.values()"
   ]
  },
  {
   "cell_type": "code",
   "execution_count": 6,
   "id": "f26a2046",
   "metadata": {},
   "outputs": [
    {
     "name": "stdout",
     "output_type": "stream",
     "text": [
      "Robin 3.6\n"
     ]
    }
   ],
   "source": [
    "# accessing values based on specific keys\n",
    "print(students['Name'], students['GPA'])"
   ]
  },
  {
   "cell_type": "code",
   "execution_count": 7,
   "id": "ff01c5e6",
   "metadata": {},
   "outputs": [
    {
     "name": "stdout",
     "output_type": "stream",
     "text": [
      "{'Name': 'Robin', 'GPA': 3.8}\n",
      "{'Name': 'Robin', 'GPA': 4.0}\n"
     ]
    }
   ],
   "source": [
    "# update existing value\n",
    "students['GPA'] = 3.8\n",
    "print(students)\n",
    "\n",
    "students.update({'GPA':4.0})\n",
    "print(students)"
   ]
  },
  {
   "cell_type": "code",
   "execution_count": 8,
   "id": "e064e659",
   "metadata": {},
   "outputs": [
    {
     "name": "stdout",
     "output_type": "stream",
     "text": [
      "{'Name': 'Robin', 'GPA': 4.0, 'Major': 'Marketing'}\n",
      "{'Name': 'Robin', 'GPA': 4.0, 'Major': 'Marketing', 'State': 'Arizona'}\n"
     ]
    }
   ],
   "source": [
    "# add new element (key-value pair) to a dictionary\n",
    "students['Major'] = 'Marketing'\n",
    "print(students)\n",
    "\n",
    "# update()\n",
    "\n",
    "students.update({'State':'Arizona'})  ## add new key-value pair\n",
    "print(students)"
   ]
  },
  {
   "cell_type": "code",
   "execution_count": 9,
   "id": "7840b05c",
   "metadata": {},
   "outputs": [
    {
     "data": {
      "text/plain": [
       "{'GPA': 4.0, 'Major': 'Marketing', 'State': 'Arizona'}"
      ]
     },
     "execution_count": 9,
     "metadata": {},
     "output_type": "execute_result"
    }
   ],
   "source": [
    "# delete entry based on key\n",
    "del students['Name']\n",
    "students"
   ]
  },
  {
   "cell_type": "code",
   "execution_count": 10,
   "id": "2142bdf1",
   "metadata": {},
   "outputs": [
    {
     "name": "stdout",
     "output_type": "stream",
     "text": [
      "{'GPA': 4.0, 'State': 'Arizona'}\n",
      "{'GPA': 4.0}\n"
     ]
    }
   ],
   "source": [
    "# pop() vs popitem()\n",
    "\n",
    "students.pop('Major')  ## removes the element with specified key\n",
    "print(students)\n",
    "\n",
    "students.popitem()   ## removes the last inserted element\n",
    "print(students)"
   ]
  },
  {
   "cell_type": "code",
   "execution_count": 11,
   "id": "18a3faf9",
   "metadata": {},
   "outputs": [
    {
     "data": {
      "text/plain": [
       "3"
      ]
     },
     "execution_count": 11,
     "metadata": {},
     "output_type": "execute_result"
    }
   ],
   "source": [
    "## len() gives the number of key-value pairs\n",
    "students = {'Name':'Robin', 'GPA':3.6, 'Major':'Marketing'}\n",
    "len(students)"
   ]
  },
  {
   "cell_type": "code",
   "execution_count": 12,
   "id": "0e4d976a",
   "metadata": {},
   "outputs": [
    {
     "data": {
      "text/plain": [
       "{}"
      ]
     },
     "execution_count": 12,
     "metadata": {},
     "output_type": "execute_result"
    }
   ],
   "source": [
    "# delete all entries in dictionary \n",
    "students.clear()\n",
    "students # It will become an empty dictionary "
   ]
  },
  {
   "cell_type": "code",
   "execution_count": 13,
   "id": "8b3271cc",
   "metadata": {},
   "outputs": [
    {
     "ename": "NameError",
     "evalue": "name 'students' is not defined",
     "output_type": "error",
     "traceback": [
      "\u001b[1;31m---------------------------------------------------------------------------\u001b[0m",
      "\u001b[1;31mNameError\u001b[0m                                 Traceback (most recent call last)",
      "\u001b[1;32m<ipython-input-13-c6ebb26353fd>\u001b[0m in \u001b[0;36m<module>\u001b[1;34m\u001b[0m\n\u001b[0;32m      1\u001b[0m \u001b[1;31m# to delete entire dictionary\u001b[0m\u001b[1;33m\u001b[0m\u001b[1;33m\u001b[0m\u001b[1;33m\u001b[0m\u001b[0m\n\u001b[0;32m      2\u001b[0m \u001b[1;32mdel\u001b[0m \u001b[0mstudents\u001b[0m\u001b[1;33m\u001b[0m\u001b[1;33m\u001b[0m\u001b[0m\n\u001b[1;32m----> 3\u001b[1;33m \u001b[0mstudents\u001b[0m  \u001b[1;31m## this error verifies the fact that the dictionary \"students\" is in fact deleted!\u001b[0m\u001b[1;33m\u001b[0m\u001b[1;33m\u001b[0m\u001b[0m\n\u001b[0m",
      "\u001b[1;31mNameError\u001b[0m: name 'students' is not defined"
     ]
    }
   ],
   "source": [
    "# to delete entire dictionary\n",
    "del students\n",
    "students  ## this error verifies the fact that the dictionary \"students\" is in fact deleted!"
   ]
  },
  {
   "cell_type": "code",
   "execution_count": null,
   "id": "01e41e4c",
   "metadata": {},
   "outputs": [],
   "source": []
  }
 ],
 "metadata": {
  "kernelspec": {
   "display_name": "Python 3",
   "language": "python",
   "name": "python3"
  },
  "language_info": {
   "codemirror_mode": {
    "name": "ipython",
    "version": 3
   },
   "file_extension": ".py",
   "mimetype": "text/x-python",
   "name": "python",
   "nbconvert_exporter": "python",
   "pygments_lexer": "ipython3",
   "version": "3.8.8"
  }
 },
 "nbformat": 4,
 "nbformat_minor": 5
}
