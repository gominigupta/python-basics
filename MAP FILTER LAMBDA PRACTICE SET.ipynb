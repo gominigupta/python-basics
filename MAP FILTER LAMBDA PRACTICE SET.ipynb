{
 "cells": [
  {
   "cell_type": "markdown",
   "id": "2ef17d8d",
   "metadata": {},
   "source": [
    "#### Q. Use list comprehension to convert a list of numbers to a list of absolute values of those numbers."
   ]
  },
  {
   "cell_type": "code",
   "execution_count": 1,
   "id": "5f9b65f0",
   "metadata": {},
   "outputs": [],
   "source": [
    "listnum = [100,-250,360,-175,-280,500]\n",
    "abslistnum = [abs(x) for x in listnum]"
   ]
  },
  {
   "cell_type": "code",
   "execution_count": 2,
   "id": "afc4d036",
   "metadata": {},
   "outputs": [
    {
     "name": "stdout",
     "output_type": "stream",
     "text": [
      "[100, 250, 360, 175, 280, 500]\n"
     ]
    }
   ],
   "source": [
    "print(abslistnum)"
   ]
  },
  {
   "cell_type": "markdown",
   "id": "c07ff48b",
   "metadata": {},
   "source": [
    "#### Q. Use list comprehension to get a list of first characters from a list of words."
   ]
  },
  {
   "cell_type": "code",
   "execution_count": 3,
   "id": "e8258d15",
   "metadata": {},
   "outputs": [
    {
     "name": "stdout",
     "output_type": "stream",
     "text": [
      "['p', 'j', 'd', 'l']\n"
     ]
    }
   ],
   "source": [
    "words = ['python', 'jupyter', 'data', 'list']\n",
    "firstchars = [i[0] for i in words]\n",
    "print(firstchars)"
   ]
  },
  {
   "cell_type": "markdown",
   "id": "521a87e7",
   "metadata": {},
   "source": [
    "#### Q. Use list comprehension to sum corresponding elements of two lists. "
   ]
  },
  {
   "cell_type": "code",
   "execution_count": 4,
   "id": "664d095b",
   "metadata": {},
   "outputs": [
    {
     "name": "stdout",
     "output_type": "stream",
     "text": [
      "[11, 22, 33, 44, 55]\n"
     ]
    }
   ],
   "source": [
    "list1 = [10,20,30,40,50]\n",
    "list2 = [1,2,3,4,5]\n",
    "list3 = [i+j for i, j in zip(list1, list2)]\n",
    "print(list3)"
   ]
  },
  {
   "cell_type": "markdown",
   "id": "20b7342b",
   "metadata": {},
   "source": [
    "#### Q. Use list comprehension to get a list of words <= 5 characters long from a list of words."
   ]
  },
  {
   "cell_type": "code",
   "execution_count": 5,
   "id": "4a2b6a7b",
   "metadata": {},
   "outputs": [
    {
     "data": {
      "text/plain": [
       "['apple', 'hp', 'dell']"
      ]
     },
     "execution_count": 5,
     "metadata": {},
     "output_type": "execute_result"
    }
   ],
   "source": [
    "words = ['apple', 'samsung', 'hp', 'dell']\n",
    "newwords = [w for w in words if len(w)<=5]\n",
    "newwords"
   ]
  },
  {
   "cell_type": "markdown",
   "id": "96f9803d",
   "metadata": {},
   "source": [
    "#### Q. Create a lambda function to return True if a number is even, else return False. Then use it with the number 5."
   ]
  },
  {
   "cell_type": "code",
   "execution_count": 6,
   "id": "a3867ddd",
   "metadata": {},
   "outputs": [
    {
     "data": {
      "text/plain": [
       "<function __main__.<lambda>(x)>"
      ]
     },
     "execution_count": 6,
     "metadata": {},
     "output_type": "execute_result"
    }
   ],
   "source": [
    "(lambda x: x%2==0)"
   ]
  },
  {
   "cell_type": "code",
   "execution_count": 7,
   "id": "8e3a88fc",
   "metadata": {},
   "outputs": [
    {
     "data": {
      "text/plain": [
       "False"
      ]
     },
     "execution_count": 7,
     "metadata": {},
     "output_type": "execute_result"
    }
   ],
   "source": [
    "(lambda x: x%2==0)(5)"
   ]
  },
  {
   "cell_type": "markdown",
   "id": "2c827e31",
   "metadata": {},
   "source": [
    "#### Q. Use map and lambda to return a new list with 0 or 1 depending on whether the elements in the existing list are >=100 or <100."
   ]
  },
  {
   "cell_type": "code",
   "execution_count": 8,
   "id": "17f7e1c8",
   "metadata": {},
   "outputs": [
    {
     "name": "stdout",
     "output_type": "stream",
     "text": [
      "[0, 1, 1, 0, 1]\n"
     ]
    }
   ],
   "source": [
    "lst = [100, 50, 75, 200, 25]\n",
    "newlst = list(map(lambda x: 0 if x>=100 else 1 , lst))\n",
    "print(newlst)"
   ]
  },
  {
   "cell_type": "markdown",
   "id": "36e6f88a",
   "metadata": {},
   "source": [
    "#### Q. Use map to convert a list of numbers to a list of absolute values of those numbers."
   ]
  },
  {
   "cell_type": "code",
   "execution_count": 9,
   "id": "f080ed15",
   "metadata": {},
   "outputs": [
    {
     "name": "stdout",
     "output_type": "stream",
     "text": [
      "[100, 200, 300, 400, 500]\n"
     ]
    }
   ],
   "source": [
    "listnum = [100, -200, -300, 400, 500]\n",
    "abslistnum = list(map(abs, listnum))\n",
    "print(abslistnum)"
   ]
  },
  {
   "cell_type": "markdown",
   "id": "55bba21d",
   "metadata": {},
   "source": [
    "#### Q. Use map to lower case items in a list."
   ]
  },
  {
   "cell_type": "code",
   "execution_count": 10,
   "id": "3e7bb688",
   "metadata": {},
   "outputs": [
    {
     "name": "stdout",
     "output_type": "stream",
     "text": [
      "['facebook', 'apple', 'amazon', 'netflix', 'google']\n"
     ]
    }
   ],
   "source": [
    "wordlist = ['Facebook', 'Apple', 'Amazon', 'Netflix', 'Google']\n",
    "newwordlist = list(map(str.lower, wordlist))\n",
    "print(newwordlist)"
   ]
  },
  {
   "cell_type": "markdown",
   "id": "6464f72d",
   "metadata": {},
   "source": [
    "#### Q. Use map and lambda to sum corresponding elements of two lists.\n"
   ]
  },
  {
   "cell_type": "code",
   "execution_count": 11,
   "id": "43cbc666",
   "metadata": {},
   "outputs": [
    {
     "name": "stdout",
     "output_type": "stream",
     "text": [
      "[11, 22, 33, 44, 55]\n"
     ]
    }
   ],
   "source": [
    "list1 = [10,20,30,40,50]\n",
    "list2 = [1,2,3,4,5]\n",
    "list3 = list(map(lambda x,y: x+y, list1,list2))\n",
    "print(list3)"
   ]
  },
  {
   "cell_type": "markdown",
   "id": "c22dbdb3",
   "metadata": {},
   "source": [
    "### MAP vs FILTER"
   ]
  },
  {
   "cell_type": "code",
   "execution_count": 12,
   "id": "60574178",
   "metadata": {},
   "outputs": [
    {
     "data": {
      "text/plain": [
       "[False, False, True, True, True]"
      ]
     },
     "execution_count": 12,
     "metadata": {},
     "output_type": "execute_result"
    }
   ],
   "source": [
    "lst = [10, 20, 30, 40, 50]\n",
    "newlst = list(map((lambda x: x>25), lst))\n",
    "newlst"
   ]
  },
  {
   "cell_type": "code",
   "execution_count": 13,
   "id": "cd553b7d",
   "metadata": {},
   "outputs": [
    {
     "data": {
      "text/plain": [
       "[30, 40, 50]"
      ]
     },
     "execution_count": 13,
     "metadata": {},
     "output_type": "execute_result"
    }
   ],
   "source": [
    "lst = [10, 20, 30, 40, 50]\n",
    "newlst = list(filter((lambda x: x>25), lst))\n",
    "newlst"
   ]
  },
  {
   "cell_type": "markdown",
   "id": "8f67339f",
   "metadata": {},
   "source": [
    "#### Q. Use filter and lambda functions to get a list of words <= 5 characters long from a list of words."
   ]
  },
  {
   "cell_type": "code",
   "execution_count": 14,
   "id": "6916e1e7",
   "metadata": {},
   "outputs": [
    {
     "data": {
      "text/plain": [
       "['apple', 'hp', 'dell']"
      ]
     },
     "execution_count": 14,
     "metadata": {},
     "output_type": "execute_result"
    }
   ],
   "source": [
    "words = ['apple', 'samsung', 'hp', 'dell']\n",
    "newwords = list(filter(lambda x: len(x)<=5, words))\n",
    "newwords"
   ]
  },
  {
   "cell_type": "markdown",
   "id": "794a195a",
   "metadata": {},
   "source": [
    "#### Q. Use filter and lambda functions to get even elements from a list of integers."
   ]
  },
  {
   "cell_type": "code",
   "execution_count": 15,
   "id": "53863d53",
   "metadata": {},
   "outputs": [
    {
     "name": "stdout",
     "output_type": "stream",
     "text": [
      "[2, 4, 8, 6, 20, 22, 24]\n"
     ]
    }
   ],
   "source": [
    "numlist = [1,2,3,4,8,6,7,19,20,22,24,23,27]\n",
    "evennumlist = list(filter(lambda x: x%2==0, numlist))\n",
    "print(evennumlist)"
   ]
  },
  {
   "cell_type": "code",
   "execution_count": null,
   "id": "1630bdaa",
   "metadata": {},
   "outputs": [],
   "source": []
  }
 ],
 "metadata": {
  "kernelspec": {
   "display_name": "Python 3",
   "language": "python",
   "name": "python3"
  },
  "language_info": {
   "codemirror_mode": {
    "name": "ipython",
    "version": 3
   },
   "file_extension": ".py",
   "mimetype": "text/x-python",
   "name": "python",
   "nbconvert_exporter": "python",
   "pygments_lexer": "ipython3",
   "version": "3.8.8"
  }
 },
 "nbformat": 4,
 "nbformat_minor": 5
}
