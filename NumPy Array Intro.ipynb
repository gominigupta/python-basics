{
 "cells": [
  {
   "cell_type": "code",
   "execution_count": 1,
   "id": "a46a17fe",
   "metadata": {},
   "outputs": [],
   "source": [
    "import numpy as np"
   ]
  },
  {
   "cell_type": "markdown",
   "id": "e7b71121",
   "metadata": {},
   "source": [
    "### Creating NumPy array"
   ]
  },
  {
   "cell_type": "code",
   "execution_count": 2,
   "id": "afdf9204",
   "metadata": {},
   "outputs": [
    {
     "name": "stdout",
     "output_type": "stream",
     "text": [
      "[1 2 3 4]\n"
     ]
    }
   ],
   "source": [
    "a = np.array([1,2,3,4]) # using a list\n",
    "print(a)"
   ]
  },
  {
   "cell_type": "code",
   "execution_count": 5,
   "id": "1348ea46",
   "metadata": {},
   "outputs": [
    {
     "name": "stdout",
     "output_type": "stream",
     "text": [
      "[1 2 3 4]\n"
     ]
    }
   ],
   "source": [
    "b = np.array((1,2,3,4)) # using a tuple\n",
    "print(b)"
   ]
  },
  {
   "cell_type": "code",
   "execution_count": 6,
   "id": "50b1d500",
   "metadata": {},
   "outputs": [
    {
     "name": "stdout",
     "output_type": "stream",
     "text": [
      "[[ 1  2  3  4]\n",
      " [10 20 30 40]]\n"
     ]
    }
   ],
   "source": [
    "c = np.array([[1,2,3,4],[10,20,30,40]]) # 2-D numpy array\n",
    "print(c)"
   ]
  },
  {
   "cell_type": "markdown",
   "id": "2d1edd34",
   "metadata": {},
   "source": [
    "### dimensions in np array"
   ]
  },
  {
   "cell_type": "code",
   "execution_count": 24,
   "id": "297c8676",
   "metadata": {},
   "outputs": [
    {
     "data": {
      "text/plain": [
       "1"
      ]
     },
     "execution_count": 24,
     "metadata": {},
     "output_type": "execute_result"
    }
   ],
   "source": [
    "a.ndim"
   ]
  },
  {
   "cell_type": "code",
   "execution_count": 25,
   "id": "bf0b1d45",
   "metadata": {},
   "outputs": [
    {
     "data": {
      "text/plain": [
       "2"
      ]
     },
     "execution_count": 25,
     "metadata": {},
     "output_type": "execute_result"
    }
   ],
   "source": [
    "c.ndim"
   ]
  },
  {
   "cell_type": "code",
   "execution_count": 32,
   "id": "9cbd17f2",
   "metadata": {},
   "outputs": [
    {
     "name": "stdout",
     "output_type": "stream",
     "text": [
      "[[[ 1  2  3  4]\n",
      "  [ 5  6  7  8]]\n",
      "\n",
      " [[ 9 10 11 12]\n",
      "  [13 14 15 16]]]\n",
      "\n",
      "Number of dimensions in the above array:  3\n"
     ]
    }
   ],
   "source": [
    "## 3-D NumPy Array\n",
    "\n",
    "t = np.array([[[1,2,3,4],[5,6,7,8]],[[9,10,11,12],[13,14,15,16]]])\n",
    "print(t)\n",
    "print(\"\\nNumber of dimensions in the above array: \",t.ndim)"
   ]
  },
  {
   "cell_type": "markdown",
   "id": "949678b5",
   "metadata": {},
   "source": [
    "### np array : dtype vs type\n",
    "dtype - this will return type of data with size that is contained in the np array \\\n",
    "type - this will return 'np array'"
   ]
  },
  {
   "cell_type": "code",
   "execution_count": 9,
   "id": "5b968e09",
   "metadata": {},
   "outputs": [
    {
     "data": {
      "text/plain": [
       "(dtype('int32'), dtype('int32'), dtype('int32'))"
      ]
     },
     "execution_count": 9,
     "metadata": {},
     "output_type": "execute_result"
    }
   ],
   "source": [
    "a.dtype, b.dtype, c.dtype   "
   ]
  },
  {
   "cell_type": "code",
   "execution_count": 10,
   "id": "9151ad47",
   "metadata": {},
   "outputs": [
    {
     "data": {
      "text/plain": [
       "dtype('<U6')"
      ]
     },
     "execution_count": 10,
     "metadata": {},
     "output_type": "execute_result"
    }
   ],
   "source": [
    "s = np.array(['apple','lenovo','hp'])\n",
    "s.dtype  "
   ]
  },
  {
   "cell_type": "code",
   "execution_count": 16,
   "id": "6363529b",
   "metadata": {},
   "outputs": [
    {
     "data": {
      "text/plain": [
       "(dtype('<U1'), numpy.ndarray)"
      ]
     },
     "execution_count": 16,
     "metadata": {},
     "output_type": "execute_result"
    }
   ],
   "source": [
    "p = np.array(['a','c','d'])\n",
    "p.dtype"
   ]
  },
  {
   "cell_type": "code",
   "execution_count": 35,
   "id": "19ed1f77",
   "metadata": {},
   "outputs": [
    {
     "data": {
      "text/plain": [
       "(dtype('int32'), numpy.ndarray)"
      ]
     },
     "execution_count": 35,
     "metadata": {},
     "output_type": "execute_result"
    }
   ],
   "source": [
    "t.dtype, type(t)"
   ]
  },
  {
   "cell_type": "code",
   "execution_count": 33,
   "id": "8586a7bc",
   "metadata": {},
   "outputs": [
    {
     "name": "stdout",
     "output_type": "stream",
     "text": [
      "<class 'numpy.ndarray'>\n",
      "<class 'numpy.ndarray'>\n",
      "<class 'numpy.ndarray'>\n",
      "<class 'numpy.ndarray'>\n",
      "<class 'numpy.ndarray'>\n",
      "<class 'numpy.ndarray'>\n"
     ]
    }
   ],
   "source": [
    "for arr in [a,b,c,s,p,t]:\n",
    "    print(type(arr))"
   ]
  },
  {
   "cell_type": "markdown",
   "id": "e9d61729",
   "metadata": {},
   "source": [
    "### Accessing np array data - slicing\n",
    "#### arr[row start : end : step size, column start : end : step size]\n",
    "#### arr[row start:end, column start: end] ----- here the step size would be 1 by default"
   ]
  },
  {
   "cell_type": "code",
   "execution_count": 17,
   "id": "b03d3cab",
   "metadata": {},
   "outputs": [
    {
     "data": {
      "text/plain": [
       "array([[1, 2, 3],\n",
       "       [4, 5, 6],\n",
       "       [7, 8, 9]])"
      ]
     },
     "execution_count": 17,
     "metadata": {},
     "output_type": "execute_result"
    }
   ],
   "source": [
    "arr = np.array([[1,2,3],[4,5,6],[7,8,9]])\n",
    "arr"
   ]
  },
  {
   "cell_type": "code",
   "execution_count": 18,
   "id": "e7ff097e",
   "metadata": {},
   "outputs": [
    {
     "data": {
      "text/plain": [
       "array([[1, 2, 3],\n",
       "       [4, 5, 6]])"
      ]
     },
     "execution_count": 18,
     "metadata": {},
     "output_type": "execute_result"
    }
   ],
   "source": [
    "arr[0:2, 0:3] ## first two rows and first 3 columns"
   ]
  },
  {
   "cell_type": "code",
   "execution_count": 19,
   "id": "306edc48",
   "metadata": {},
   "outputs": [
    {
     "data": {
      "text/plain": [
       "array([[1, 2, 3],\n",
       "       [4, 5, 6]])"
      ]
     },
     "execution_count": 19,
     "metadata": {},
     "output_type": "execute_result"
    }
   ],
   "source": [
    "arr[:2, :3]  ## same thing as above, we can skip writing 0 for first index."
   ]
  },
  {
   "cell_type": "code",
   "execution_count": 21,
   "id": "07c888ee",
   "metadata": {},
   "outputs": [
    {
     "data": {
      "text/plain": [
       "array([[2, 3],\n",
       "       [8, 9]])"
      ]
     },
     "execution_count": 21,
     "metadata": {},
     "output_type": "execute_result"
    }
   ],
   "source": [
    "arr[::2,1:3]  ## all row indexes with step size 2 i.e., row 0 and 2. Columns from 1 to 2"
   ]
  },
  {
   "cell_type": "code",
   "execution_count": null,
   "id": "b20fda43",
   "metadata": {},
   "outputs": [],
   "source": []
  }
 ],
 "metadata": {
  "kernelspec": {
   "display_name": "Python 3",
   "language": "python",
   "name": "python3"
  },
  "language_info": {
   "codemirror_mode": {
    "name": "ipython",
    "version": 3
   },
   "file_extension": ".py",
   "mimetype": "text/x-python",
   "name": "python",
   "nbconvert_exporter": "python",
   "pygments_lexer": "ipython3",
   "version": "3.8.8"
  }
 },
 "nbformat": 4,
 "nbformat_minor": 5
}
